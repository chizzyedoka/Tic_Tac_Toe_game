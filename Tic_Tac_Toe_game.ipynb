{
 "cells": [
  {
   "cell_type": "code",
   "execution_count": 1,
   "id": "de26c149",
   "metadata": {},
   "outputs": [],
   "source": [
    "from IPython.display import clear_output"
   ]
  },
  {
   "cell_type": "code",
   "execution_count": 2,
   "id": "3fe7e61a",
   "metadata": {},
   "outputs": [],
   "source": [
    "board = ['#',' ',' ',' ',' ',' ',' ',' ',' ',' '] #To create an empty board"
   ]
  },
  {
   "cell_type": "code",
   "execution_count": 3,
   "id": "0aa6bf0e",
   "metadata": {},
   "outputs": [],
   "source": [
    "def display(board):  \n",
    "    clear_output()\n",
    "    print('  |   | ')\n",
    "    print(board[1]+' | '+board[2]+' | '+board[3])\n",
    "    print('  |   | ')\n",
    "    print(\"----------\")\n",
    "    print('  |   | ')\n",
    "    print(board[4]+' | '+board[5]+' | '+board[6])\n",
    "    print('  |   | ')\n",
    "    print(\"----------\")\n",
    "    print('  |   | ')\n",
    "    print(board[7]+' | '+board[8]+' | '+board[9])\n",
    "    print('  |   | ')    "
   ]
  },
  {
   "cell_type": "code",
   "execution_count": 4,
   "id": "fd22a80c",
   "metadata": {},
   "outputs": [
    {
     "name": "stdout",
     "output_type": "stream",
     "text": [
      "  |   | \n",
      "  |   |  \n",
      "  |   | \n",
      "----------\n",
      "  |   | \n",
      "  |   |  \n",
      "  |   | \n",
      "----------\n",
      "  |   | \n",
      "  |   |  \n",
      "  |   | \n"
     ]
    }
   ],
   "source": [
    "display(board)"
   ]
  },
  {
   "cell_type": "code",
   "execution_count": 5,
   "id": "42be6a34",
   "metadata": {},
   "outputs": [],
   "source": [
    "def player_input():\n",
    "    marker = ''\n",
    "    player1 = ''\n",
    "    computer = ''\n",
    "    while not (marker == 'X' or marker == 'O'):\n",
    "        marker = input(\"Please select a marker 'x' or 'o': \").upper()\n",
    "        if (marker != 'X') or (marker != 'O'):\n",
    "            clear_output()\n",
    "        if marker == 'X':\n",
    "            print(f\"You are '{marker}' '\")\n",
    "            print(\"Computer is 'O'\")\n",
    "            player1,computer = 'X','O'\n",
    "        elif marker == 'O':\n",
    "            print(f\"You are '{marker}' '\")\n",
    "            print(\"Computer is 'X'\")\n",
    "            player1,computer = 'O','X'\n",
    "    return player1,computer\n",
    "    \n",
    "    \n",
    "        "
   ]
  },
  {
   "cell_type": "code",
   "execution_count": 6,
   "id": "abe0ebbd",
   "metadata": {},
   "outputs": [],
   "source": [
    "def display_position_board(): #to show user where to place a marker\n",
    "    print(\"Please select a position to place your marker\")\n",
    "    print('  |   | ')\n",
    "    print(f\"{1} | {2} | {3}\")\n",
    "    print('  |   | ')\n",
    "    print(\"----------\")\n",
    "    print('  |   | ')\n",
    "    print(f\"{4} | {5} | {6}\")\n",
    "    print('  |   | ')\n",
    "    print(\"----------\")\n",
    "    print('  |   | ')\n",
    "    print(f\"{7} | {8} | {9}\")\n",
    "    print('  |   | ')"
   ]
  },
  {
   "cell_type": "code",
   "execution_count": 7,
   "id": "08a7e938",
   "metadata": {},
   "outputs": [
    {
     "name": "stdout",
     "output_type": "stream",
     "text": [
      "Please select a position to place your marker\n",
      "  |   | \n",
      "1 | 2 | 3\n",
      "  |   | \n",
      "----------\n",
      "  |   | \n",
      "4 | 5 | 6\n",
      "  |   | \n",
      "----------\n",
      "  |   | \n",
      "7 | 8 | 9\n",
      "  |   | \n"
     ]
    }
   ],
   "source": [
    "display_position_board()"
   ]
  },
  {
   "cell_type": "code",
   "execution_count": 8,
   "id": "03690bbf",
   "metadata": {},
   "outputs": [],
   "source": [
    "def position_chioce(): #a function that collects the users position\n",
    "    chioce = ''\n",
    "    while chioce not in range(1,10):\n",
    "        chioce = int(input(\"Select a position to place your marker(1-9): \"))\n",
    "        if chioce not in range(1,10):\n",
    "            clear_output()\n",
    "    return chioce"
   ]
  },
  {
   "cell_type": "code",
   "execution_count": 9,
   "id": "e9bb26f8",
   "metadata": {},
   "outputs": [],
   "source": [
    "def empty_space(position,board):\n",
    "    return board[position] == ' '\n",
    "    \n",
    "    "
   ]
  },
  {
   "cell_type": "code",
   "execution_count": 10,
   "id": "34da0c23",
   "metadata": {},
   "outputs": [],
   "source": [
    "def win_check(board,mark):\n",
    "    \n",
    "    return ((board[7] == mark and board[8] == mark and board[9] == mark) or # across the bottom\n",
    "    (board[4] == mark and board[5] == mark and board[6] == mark) or # across the middle\n",
    "    (board[1] == mark and board[2] == mark and board[3] == mark) or # across the top\n",
    "    (board[7] == mark and board[4] == mark and board[1] == mark) or # down the left side\n",
    "    (board[8] == mark and board[5] == mark and board[2] == mark) or # down the middle\n",
    "    (board[9] == mark and board[6] == mark and board[3] == mark) or # down the right side\n",
    "    (board[7] == mark and board[5] == mark and board[3] == mark) or # diagonal\n",
    "    (board[9] == mark and board[5] == mark and board[1] == mark)) # diagonal"
   ]
  },
  {
   "cell_type": "code",
   "execution_count": 11,
   "id": "87085f1d",
   "metadata": {},
   "outputs": [],
   "source": [
    "def full_board_check(board): #this checks if the board is full\n",
    "    for i in range(1,10):\n",
    "        if board[i] == ' ':\n",
    "            return False\n",
    "    return True"
   ]
  },
  {
   "cell_type": "code",
   "execution_count": 12,
   "id": "f5dd09e7",
   "metadata": {},
   "outputs": [],
   "source": [
    "def placing_input(board,position,marker): #to place a marker on the selected position\n",
    "    board[position] = marker    \n",
    "    "
   ]
  },
  {
   "cell_type": "code",
   "execution_count": 13,
   "id": "1e33cf56",
   "metadata": {},
   "outputs": [
    {
     "name": "stdout",
     "output_type": "stream",
     "text": [
      "['#', 'X', ' ', ' ', ' ', ' ', ' ', ' ', ' ', ' ']\n"
     ]
    }
   ],
   "source": [
    "placing_input(board,1,'X')\n",
    "print(board)"
   ]
  },
  {
   "cell_type": "code",
   "execution_count": 14,
   "id": "76eed2d3",
   "metadata": {},
   "outputs": [],
   "source": [
    "import random   #imports the random library\n",
    "\n",
    "\n",
    "def computer():  #this function randomly generates numbers between 1 to 9\n",
    "    return random.randint(1,9)"
   ]
  },
  {
   "cell_type": "code",
   "execution_count": 15,
   "id": "e39b1381",
   "metadata": {},
   "outputs": [],
   "source": [
    "import random   #imports the random library\n",
    "\n",
    "def whose_turn():\n",
    "    r = random.randint(1,2) #randomly selects who goes first\n",
    "    if r == 1:\n",
    "        return \"player1\"  #player1 goes first\n",
    "    else:\n",
    "        return \"computer\" #computer goes first"
   ]
  },
  {
   "cell_type": "code",
   "execution_count": 16,
   "id": "647ceb21",
   "metadata": {},
   "outputs": [
    {
     "name": "stdout",
     "output_type": "stream",
     "text": [
      "player1\n"
     ]
    }
   ],
   "source": [
    "turn = whose_turn()\n",
    "print(turn)"
   ]
  },
  {
   "cell_type": "code",
   "execution_count": 17,
   "id": "eabbb7b7",
   "metadata": {},
   "outputs": [
    {
     "name": "stdout",
     "output_type": "stream",
     "text": [
      "  |   | \n",
      "O | X | O\n",
      "  |   | \n",
      "----------\n",
      "  |   | \n",
      "X | O | O\n",
      "  |   | \n",
      "----------\n",
      "  |   | \n",
      "X | O | X\n",
      "  |   | \n",
      "The game is a draw\n",
      "Do you want to go another round(y/n):n\n",
      "Thanks for playing\n"
     ]
    }
   ],
   "source": [
    "print(\"Welcome to my Tic Tac Toe Game\")\n",
    "\n",
    "play = True\n",
    "\n",
    "while play:\n",
    "    answer = ' '\n",
    "\n",
    "    board = ['#', ' ', ' ', ' ', ' ', ' ', ' ', ' ', ' ', ' ']\n",
    "\n",
    "    player1_marker, computer_marker = player_input()\n",
    "\n",
    "    display_position_board()\n",
    "\n",
    "    turn = whose_turn()\n",
    "\n",
    "    game_on = True\n",
    "\n",
    "    while game_on:\n",
    "\n",
    "        if turn == \"player1\":\n",
    "            position = position_chioce()\n",
    "            if empty_space(position, board) == True:\n",
    "                placing_input(board, position, player1_marker)\n",
    "                display(board)\n",
    "                turn = \"computer\"\n",
    "\n",
    "                if win_check(board, player1_marker):\n",
    "                    display(board)\n",
    "                    print(\"Congratulations you have won\")\n",
    "                    answer = input(\"Do you want to go another round(y/n):\")\n",
    "                    if answer == 'n':\n",
    "                        game_on = False\n",
    "                        play = False\n",
    "                    else:\n",
    "                        game_on = False\n",
    "                        play = True\n",
    "\n",
    "\n",
    "                else:\n",
    "                    if full_board_check(board):\n",
    "                        display(board)\n",
    "                        print(\"The game is a draw\")\n",
    "                        answer = input(\"Do you want to go another round(y/n):\")\n",
    "                        if answer == 'n':\n",
    "                            game_on = False\n",
    "                            play = False\n",
    "                        else:\n",
    "                            game_on = False\n",
    "                            play = True\n",
    "                    else:\n",
    "                        turn = \"computer\"\n",
    "\n",
    "            elif empty_space(position, board) == False:\n",
    "                clear_output()\n",
    "                display(board)\n",
    "                print('Please select a valid position')\n",
    "                turn = \"player1\"\n",
    "                continue\n",
    "\n",
    "\n",
    "        else:\n",
    "            if turn == \"computer\":\n",
    "                position = computer()\n",
    "                if empty_space(position, board) == True:\n",
    "                    placing_input(board, position, computer_marker)\n",
    "                    display(board)\n",
    "                    turn = \"player1\"\n",
    "\n",
    "                    if win_check(board, computer_marker):\n",
    "                        display(board)\n",
    "                        print(\"Sorry you loose\")\n",
    "                        answer = input(\"Do you want to go another round(y/n):\")\n",
    "                        if answer == 'n':\n",
    "                            game_on = False\n",
    "                            play = False\n",
    "                        else:\n",
    "                            game_on = False\n",
    "                            play = True\n",
    "\n",
    "                    elif full_board_check(board):\n",
    "                        display(board)\n",
    "                        print(\"We have a draw\")\n",
    "                        answer = input(\"Do you want to go another round(y/n):\")\n",
    "                        if answer == 'n':\n",
    "                            game_on = False\n",
    "                            play = False\n",
    "                        else:\n",
    "                            game_on = False\n",
    "                            play = True\n",
    "                    turn = \"player1\"\n",
    "\n",
    "print(\"Thanks for playing\")\n",
    "\n",
    "\n",
    "\n",
    "\n",
    "\n",
    "\n",
    "\n",
    "\n",
    "\n",
    "\n",
    "\n"
   ]
  },
  {
   "cell_type": "code",
   "execution_count": null,
   "id": "85e03ac0",
   "metadata": {},
   "outputs": [],
   "source": []
  }
 ],
 "metadata": {
  "kernelspec": {
   "display_name": "Python 3",
   "language": "python",
   "name": "python3"
  },
  "language_info": {
   "codemirror_mode": {
    "name": "ipython",
    "version": 3
   },
   "file_extension": ".py",
   "mimetype": "text/x-python",
   "name": "python",
   "nbconvert_exporter": "python",
   "pygments_lexer": "ipython3",
   "version": "3.8.8"
  }
 },
 "nbformat": 4,
 "nbformat_minor": 5
}
