{
 "cells": [
  {
   "cell_type": "code",
   "execution_count": 1,
   "id": "de26c149",
   "metadata": {},
   "outputs": [],
   "source": [
    "from IPython.display import clear_output"
   ]
  },
  {
   "cell_type": "code",
   "execution_count": 2,
   "id": "3fe7e61a",
   "metadata": {},
   "outputs": [],
   "source": [
    "board = ['#',' ',' ',' ',' ',' ',' ',' ',' ',' ']"
   ]
  },
  {
   "cell_type": "code",
   "execution_count": 3,
   "id": "0aa6bf0e",
   "metadata": {},
   "outputs": [],
   "source": [
    "def display(board):\n",
    "    clear_output()\n",
    "    print('  |   | ')\n",
    "    print(board[1]+' | '+board[2]+' | '+board[3])\n",
    "    print('  |   | ')\n",
    "    print(\"----------\")\n",
    "    print('  |   | ')\n",
    "    print(board[4]+' | '+board[5]+' | '+board[6])\n",
    "    print('  |   | ')\n",
    "    print(\"----------\")\n",
    "    print('  |   | ')\n",
    "    print(board[7]+' | '+board[8]+' | '+board[9])\n",
    "    print('  |   | ')    "
   ]
  },
  {
   "cell_type": "code",
   "execution_count": 4,
   "id": "fd22a80c",
   "metadata": {},
   "outputs": [
    {
     "name": "stdout",
     "output_type": "stream",
     "text": [
      "  |   | \n",
      "  |   |  \n",
      "  |   | \n",
      "----------\n",
      "  |   | \n",
      "  |   |  \n",
      "  |   | \n",
      "----------\n",
      "  |   | \n",
      "  |   |  \n",
      "  |   | \n"
     ]
    }
   ],
   "source": [
    "display(board)"
   ]
  },
  {
   "cell_type": "code",
   "execution_count": 5,
   "id": "42be6a34",
   "metadata": {},
   "outputs": [],
   "source": [
    "def player_input():\n",
    "    marker = ''\n",
    "    player1 = ''\n",
    "    computer = ''\n",
    "    while not (marker == 'X' or marker == 'O'):\n",
    "        marker = input(\"Please select a marker 'x' or 'o': \").upper()\n",
    "        if (marker != 'X') or (marker != 'O'):\n",
    "            clear_output()\n",
    "        if marker == 'X':\n",
    "            print(f\"You are '{marker}' '\")\n",
    "            print(\"Computer is 'O'\")\n",
    "            player1,computer = 'X','O'\n",
    "        elif marker == 'O':\n",
    "            print(f\"You are '{marker}' '\")\n",
    "            print(\"Computer is 'X'\")\n",
    "            player1,computer = 'O','X'\n",
    "    return player1,computer\n",
    "    \n",
    "    \n",
    "        "
   ]
  },
  {
   "cell_type": "code",
   "execution_count": 6,
   "id": "1351f937",
   "metadata": {},
   "outputs": [
    {
     "name": "stdout",
     "output_type": "stream",
     "text": [
      "You are 'X' '\n",
      "Computer is 'O'\n"
     ]
    },
    {
     "data": {
      "text/plain": [
       "('X', 'O')"
      ]
     },
     "execution_count": 6,
     "metadata": {},
     "output_type": "execute_result"
    }
   ],
   "source": [
    "player_input()"
   ]
  },
  {
   "cell_type": "code",
   "execution_count": 7,
   "id": "abe0ebbd",
   "metadata": {},
   "outputs": [],
   "source": [
    "def display_position_board(): #to show user where to place a marker\n",
    "    print(\"Please select a position to place your marker\")\n",
    "    print('  |   | ')\n",
    "    print(f\"{1} | {2} | {3}\")\n",
    "    print('  |   | ')\n",
    "    print(\"----------\")\n",
    "    print('  |   | ')\n",
    "    print(f\"{4} | {5} | {6}\")\n",
    "    print('  |   | ')\n",
    "    print(\"----------\")\n",
    "    print('  |   | ')\n",
    "    print(f\"{7} | {8} | {9}\")\n",
    "    print('  |   | ')"
   ]
  },
  {
   "cell_type": "code",
   "execution_count": 8,
   "id": "08a7e938",
   "metadata": {},
   "outputs": [
    {
     "name": "stdout",
     "output_type": "stream",
     "text": [
      "Please select a position to place your marker\n",
      "  |   | \n",
      "1 | 2 | 3\n",
      "  |   | \n",
      "----------\n",
      "  |   | \n",
      "4 | 5 | 6\n",
      "  |   | \n",
      "----------\n",
      "  |   | \n",
      "7 | 8 | 9\n",
      "  |   | \n"
     ]
    }
   ],
   "source": [
    "display_position_board()"
   ]
  },
  {
   "cell_type": "code",
   "execution_count": 9,
   "id": "03690bbf",
   "metadata": {},
   "outputs": [],
   "source": [
    "def position_chioce():\n",
    "    chioce = ''\n",
    "    while chioce not in range(1,10):\n",
    "        chioce = int(input(\"Select a position to place your marker(1-9): \"))\n",
    "        if chioce not in range(1,10):\n",
    "            clear_output()\n",
    "    return chioce"
   ]
  },
  {
   "cell_type": "code",
   "execution_count": 10,
   "id": "d46b1dcb",
   "metadata": {},
   "outputs": [
    {
     "name": "stdout",
     "output_type": "stream",
     "text": [
      "Select a position to place your marker(1-9): 1\n"
     ]
    },
    {
     "data": {
      "text/plain": [
       "1"
      ]
     },
     "execution_count": 10,
     "metadata": {},
     "output_type": "execute_result"
    }
   ],
   "source": [
    "position_chioce()"
   ]
  },
  {
   "cell_type": "code",
   "execution_count": 27,
   "id": "e9bb26f8",
   "metadata": {},
   "outputs": [],
   "source": [
    "def empty_space(position,board):\n",
    "    return board[position] == ' '\n",
    "    \n",
    "    "
   ]
  },
  {
   "cell_type": "code",
   "execution_count": 12,
   "id": "f59099ba",
   "metadata": {},
   "outputs": [
    {
     "data": {
      "text/plain": [
       "True"
      ]
     },
     "execution_count": 12,
     "metadata": {},
     "output_type": "execute_result"
    }
   ],
   "source": [
    "empty_space(2,board)"
   ]
  },
  {
   "cell_type": "code",
   "execution_count": 13,
   "id": "34da0c23",
   "metadata": {},
   "outputs": [],
   "source": [
    "def win_check(board,mark): #check if we have a winner\n",
    "    return (board[1] == mark and board[2] == mark and board[3] == mark) or (board[4] == mark and board[5] == mark and board[6] == mark) or (board[7] == mark and board[8] == mark and board[9] == mark) or (board[1] == mark and board[4] == mark and board[7] == mark) or (board[2] == mark and board[5] == mark and board[8] == mark) or (board[3] == mark and board[6] == mark and board[9] == mark) or (board[1] == mark and board[5] == mark and board[9] == mark) or (board[3] == mark and board[5] == mark and board[7] == mark)"
   ]
  },
  {
   "cell_type": "code",
   "execution_count": 14,
   "id": "87085f1d",
   "metadata": {},
   "outputs": [],
   "source": [
    "def full_board_check(board):\n",
    "    for i in range(1,10):\n",
    "        if board[i] == ' ':\n",
    "            return False\n",
    "    return True"
   ]
  },
  {
   "cell_type": "code",
   "execution_count": 15,
   "id": "f5dd09e7",
   "metadata": {},
   "outputs": [],
   "source": [
    "def placing_input(board,position,marker): #to place a marker on the selected position\n",
    "    board[position] = marker    \n",
    "    "
   ]
  },
  {
   "cell_type": "code",
   "execution_count": 16,
   "id": "1e33cf56",
   "metadata": {},
   "outputs": [
    {
     "name": "stdout",
     "output_type": "stream",
     "text": [
      "['#', 'X', ' ', ' ', ' ', ' ', ' ', ' ', ' ', ' ']\n"
     ]
    }
   ],
   "source": [
    "placing_input(board,1,'X')\n",
    "print(board)"
   ]
  },
  {
   "cell_type": "code",
   "execution_count": 17,
   "id": "800ab5f4",
   "metadata": {},
   "outputs": [],
   "source": [
    "def question():\n",
    "    return input(\"Do you want to go another round(y/n): \")"
   ]
  },
  {
   "cell_type": "code",
   "execution_count": 18,
   "id": "76eed2d3",
   "metadata": {},
   "outputs": [],
   "source": [
    "import random\n",
    "def computer():\n",
    "    return random.randint(1,9)"
   ]
  },
  {
   "cell_type": "code",
   "execution_count": 72,
   "id": "e39b1381",
   "metadata": {},
   "outputs": [],
   "source": [
    "def whose_turn():\n",
    "    r = random.randint(1,2)\n",
    "    if r == 1:\n",
    "        return \"player1\"\n",
    "    else:\n",
    "        return \"computer\""
   ]
  },
  {
   "cell_type": "code",
   "execution_count": 75,
   "id": "647ceb21",
   "metadata": {},
   "outputs": [
    {
     "name": "stdout",
     "output_type": "stream",
     "text": [
      "computer\n"
     ]
    }
   ],
   "source": [
    "turn = whose_turn()\n",
    "print(turn)"
   ]
  },
  {
   "cell_type": "code",
   "execution_count": 76,
   "id": "21e2a440",
   "metadata": {},
   "outputs": [
    {
     "name": "stdout",
     "output_type": "stream",
     "text": [
      "  |   | \n",
      "X | O | X\n",
      "  |   | \n",
      "----------\n",
      "  |   | \n",
      "  |   |  \n",
      "  |   | \n",
      "----------\n",
      "  |   | \n",
      "O |   |  \n",
      "  |   | \n"
     ]
    },
    {
     "ename": "KeyboardInterrupt",
     "evalue": "Interrupted by user",
     "output_type": "error",
     "traceback": [
      "\u001b[1;31m---------------------------------------------------------------------------\u001b[0m",
      "\u001b[1;31mKeyboardInterrupt\u001b[0m                         Traceback (most recent call last)",
      "\u001b[1;32m<ipython-input-76-0237a9f471bc>\u001b[0m in \u001b[0;36m<module>\u001b[1;34m\u001b[0m\n\u001b[0;32m     19\u001b[0m \u001b[1;33m\u001b[0m\u001b[0m\n\u001b[0;32m     20\u001b[0m         \u001b[1;32mif\u001b[0m \u001b[0mturn\u001b[0m \u001b[1;33m==\u001b[0m \u001b[1;34m\"player1\"\u001b[0m\u001b[1;33m:\u001b[0m\u001b[1;33m\u001b[0m\u001b[1;33m\u001b[0m\u001b[0m\n\u001b[1;32m---> 21\u001b[1;33m             \u001b[0mposition\u001b[0m \u001b[1;33m=\u001b[0m \u001b[0mposition_chioce\u001b[0m\u001b[1;33m(\u001b[0m\u001b[1;33m)\u001b[0m\u001b[1;33m\u001b[0m\u001b[1;33m\u001b[0m\u001b[0m\n\u001b[0m\u001b[0;32m     22\u001b[0m             \u001b[1;32mif\u001b[0m \u001b[0mempty_space\u001b[0m\u001b[1;33m(\u001b[0m\u001b[0mposition\u001b[0m\u001b[1;33m,\u001b[0m\u001b[0mboard\u001b[0m\u001b[1;33m)\u001b[0m \u001b[1;33m==\u001b[0m \u001b[1;32mFalse\u001b[0m\u001b[1;33m:\u001b[0m\u001b[1;33m\u001b[0m\u001b[1;33m\u001b[0m\u001b[0m\n\u001b[0;32m     23\u001b[0m                 \u001b[0mplacing_input\u001b[0m\u001b[1;33m(\u001b[0m\u001b[0mboard\u001b[0m\u001b[1;33m,\u001b[0m\u001b[0mposition\u001b[0m\u001b[1;33m,\u001b[0m\u001b[0mplayer1_marker\u001b[0m\u001b[1;33m)\u001b[0m\u001b[1;33m\u001b[0m\u001b[1;33m\u001b[0m\u001b[0m\n",
      "\u001b[1;32m<ipython-input-9-cd0f827766c2>\u001b[0m in \u001b[0;36mposition_chioce\u001b[1;34m()\u001b[0m\n\u001b[0;32m      2\u001b[0m     \u001b[0mchioce\u001b[0m \u001b[1;33m=\u001b[0m \u001b[1;34m''\u001b[0m\u001b[1;33m\u001b[0m\u001b[1;33m\u001b[0m\u001b[0m\n\u001b[0;32m      3\u001b[0m     \u001b[1;32mwhile\u001b[0m \u001b[0mchioce\u001b[0m \u001b[1;32mnot\u001b[0m \u001b[1;32min\u001b[0m \u001b[0mrange\u001b[0m\u001b[1;33m(\u001b[0m\u001b[1;36m1\u001b[0m\u001b[1;33m,\u001b[0m\u001b[1;36m10\u001b[0m\u001b[1;33m)\u001b[0m\u001b[1;33m:\u001b[0m\u001b[1;33m\u001b[0m\u001b[1;33m\u001b[0m\u001b[0m\n\u001b[1;32m----> 4\u001b[1;33m         \u001b[0mchioce\u001b[0m \u001b[1;33m=\u001b[0m \u001b[0mint\u001b[0m\u001b[1;33m(\u001b[0m\u001b[0minput\u001b[0m\u001b[1;33m(\u001b[0m\u001b[1;34m\"Select a position to place your marker(1-9): \"\u001b[0m\u001b[1;33m)\u001b[0m\u001b[1;33m)\u001b[0m\u001b[1;33m\u001b[0m\u001b[1;33m\u001b[0m\u001b[0m\n\u001b[0m\u001b[0;32m      5\u001b[0m         \u001b[1;32mif\u001b[0m \u001b[0mchioce\u001b[0m \u001b[1;32mnot\u001b[0m \u001b[1;32min\u001b[0m \u001b[0mrange\u001b[0m\u001b[1;33m(\u001b[0m\u001b[1;36m1\u001b[0m\u001b[1;33m,\u001b[0m\u001b[1;36m10\u001b[0m\u001b[1;33m)\u001b[0m\u001b[1;33m:\u001b[0m\u001b[1;33m\u001b[0m\u001b[1;33m\u001b[0m\u001b[0m\n\u001b[0;32m      6\u001b[0m             \u001b[0mclear_output\u001b[0m\u001b[1;33m(\u001b[0m\u001b[1;33m)\u001b[0m\u001b[1;33m\u001b[0m\u001b[1;33m\u001b[0m\u001b[0m\n",
      "\u001b[1;32m~\\anaconda3\\lib\\site-packages\\ipykernel\\kernelbase.py\u001b[0m in \u001b[0;36mraw_input\u001b[1;34m(self, prompt)\u001b[0m\n\u001b[0;32m    858\u001b[0m                 \u001b[1;34m\"raw_input was called, but this frontend does not support input requests.\"\u001b[0m\u001b[1;33m\u001b[0m\u001b[1;33m\u001b[0m\u001b[0m\n\u001b[0;32m    859\u001b[0m             )\n\u001b[1;32m--> 860\u001b[1;33m         return self._input_request(str(prompt),\n\u001b[0m\u001b[0;32m    861\u001b[0m             \u001b[0mself\u001b[0m\u001b[1;33m.\u001b[0m\u001b[0m_parent_ident\u001b[0m\u001b[1;33m,\u001b[0m\u001b[1;33m\u001b[0m\u001b[1;33m\u001b[0m\u001b[0m\n\u001b[0;32m    862\u001b[0m             \u001b[0mself\u001b[0m\u001b[1;33m.\u001b[0m\u001b[0m_parent_header\u001b[0m\u001b[1;33m,\u001b[0m\u001b[1;33m\u001b[0m\u001b[1;33m\u001b[0m\u001b[0m\n",
      "\u001b[1;32m~\\anaconda3\\lib\\site-packages\\ipykernel\\kernelbase.py\u001b[0m in \u001b[0;36m_input_request\u001b[1;34m(self, prompt, ident, parent, password)\u001b[0m\n\u001b[0;32m    902\u001b[0m             \u001b[1;32mexcept\u001b[0m \u001b[0mKeyboardInterrupt\u001b[0m\u001b[1;33m:\u001b[0m\u001b[1;33m\u001b[0m\u001b[1;33m\u001b[0m\u001b[0m\n\u001b[0;32m    903\u001b[0m                 \u001b[1;31m# re-raise KeyboardInterrupt, to truncate traceback\u001b[0m\u001b[1;33m\u001b[0m\u001b[1;33m\u001b[0m\u001b[1;33m\u001b[0m\u001b[0m\n\u001b[1;32m--> 904\u001b[1;33m                 \u001b[1;32mraise\u001b[0m \u001b[0mKeyboardInterrupt\u001b[0m\u001b[1;33m(\u001b[0m\u001b[1;34m\"Interrupted by user\"\u001b[0m\u001b[1;33m)\u001b[0m \u001b[1;32mfrom\u001b[0m \u001b[1;32mNone\u001b[0m\u001b[1;33m\u001b[0m\u001b[1;33m\u001b[0m\u001b[0m\n\u001b[0m\u001b[0;32m    905\u001b[0m             \u001b[1;32mexcept\u001b[0m \u001b[0mException\u001b[0m \u001b[1;32mas\u001b[0m \u001b[0me\u001b[0m\u001b[1;33m:\u001b[0m\u001b[1;33m\u001b[0m\u001b[1;33m\u001b[0m\u001b[0m\n\u001b[0;32m    906\u001b[0m                 \u001b[0mself\u001b[0m\u001b[1;33m.\u001b[0m\u001b[0mlog\u001b[0m\u001b[1;33m.\u001b[0m\u001b[0mwarning\u001b[0m\u001b[1;33m(\u001b[0m\u001b[1;34m\"Invalid Message:\"\u001b[0m\u001b[1;33m,\u001b[0m \u001b[0mexc_info\u001b[0m\u001b[1;33m=\u001b[0m\u001b[1;32mTrue\u001b[0m\u001b[1;33m)\u001b[0m\u001b[1;33m\u001b[0m\u001b[1;33m\u001b[0m\u001b[0m\n",
      "\u001b[1;31mKeyboardInterrupt\u001b[0m: Interrupted by user"
     ]
    }
   ],
   "source": [
    "print(\"Welcome to my Tic Tac Toe Game\")\n",
    "\n",
    "play = True\n",
    "\n",
    "while play:\n",
    "    answer = ' '\n",
    "    \n",
    "    board = ['#',' ',' ',' ',' ',' ',' ',' ',' ',' ']\n",
    "    \n",
    "    player1_marker,computer_marker = player_input()\n",
    "    \n",
    "    display_position_board()\n",
    "    \n",
    "    turn = whose_turn()\n",
    "    \n",
    "    game_on = True\n",
    "    \n",
    "    while game_on:\n",
    "        \n",
    "        if turn == \"player1\":       \n",
    "            position = position_chioce()\n",
    "            if empty_space(position,board) == False:\n",
    "                placing_input(board,position,player1_marker)\n",
    "                display(board)\n",
    "                turn = \"computer\"\n",
    "                \n",
    "                if win_check(board,player1_marker):\n",
    "                    display(board)\n",
    "                    print(\"Congratulations you have won\")\n",
    "                    answer = input(\"Do you want to go another round(y/n):\")\n",
    "                    if answer == 'n':\n",
    "                        game_on = False\n",
    "                        play = False\n",
    "                    else:\n",
    "                        game_on = False\n",
    "                        play = True\n",
    "    \n",
    "                    \n",
    "                else:\n",
    "                    if full_board_check(board):\n",
    "                        display(board)\n",
    "                        print(\"The game is a draw\")\n",
    "                        answer = input(\"Do you want to go another round(y/n):\")\n",
    "                        if answer == 'n':\n",
    "                            game_on = False\n",
    "                            play = False\n",
    "                        else:\n",
    "                            game_on = False\n",
    "                            play = True\n",
    "                    else:\n",
    "                        turn = \"computer\"\n",
    "                \n",
    "            elif empty_space(position,board) == True:\n",
    "                clear_output()\n",
    "                display(board)\n",
    "                print('Please select a valid position')\n",
    "                turn = \"player1\"\n",
    "                continue\n",
    "                \n",
    "                \n",
    "        else:\n",
    "            if turn == \"computer\":\n",
    "                position = computer()\n",
    "                if empty_space(position,board) == False:\n",
    "                    placing_input(board,position,computer_marker)\n",
    "                    display(board)\n",
    "                    turn = \"player1\"\n",
    "                    \n",
    "                    if win_check(board,computer_marker):\n",
    "                        display(board)\n",
    "                        print(\"Sorry you loose\")\n",
    "                        answer = input(\"Do you want to go another round(y/n):\")\n",
    "                        if answer == 'n':\n",
    "                            game_on = False\n",
    "                            play = False\n",
    "                        else:\n",
    "                            game_on = False\n",
    "                            play = True\n",
    "                        \n",
    "                    elif full_board_check(board):\n",
    "                        display(board)\n",
    "                        print(\"We have a draw\")\n",
    "                        answer = input(\"Do you want to go another round(y/n):\")\n",
    "                        if answer == 'n':\n",
    "                            game_on = False\n",
    "                            play = False\n",
    "                        else:\n",
    "                            game_on = False\n",
    "                            play = True\n",
    "                    turn = \"player1\"\n",
    "                    \n",
    "print(\"Thanks for playing\")           \n",
    "                \n",
    "                \n",
    "            \n",
    "        \n",
    "                    \n",
    "                    \n",
    "                    \n",
    "            \n",
    "    \n",
    "    "
   ]
  },
  {
   "cell_type": "markdown",
   "id": "f9e82ea0",
   "metadata": {},
   "source": []
  }
 ],
 "metadata": {
  "kernelspec": {
   "display_name": "Python 3",
   "language": "python",
   "name": "python3"
  },
  "language_info": {
   "codemirror_mode": {
    "name": "ipython",
    "version": 3
   },
   "file_extension": ".py",
   "mimetype": "text/x-python",
   "name": "python",
   "nbconvert_exporter": "python",
   "pygments_lexer": "ipython3",
   "version": "3.8.8"
  }
 },
 "nbformat": 4,
 "nbformat_minor": 5
}
