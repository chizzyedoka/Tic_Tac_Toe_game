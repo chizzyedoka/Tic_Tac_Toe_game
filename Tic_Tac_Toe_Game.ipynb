{
 "cells": [
  {
   "cell_type": "code",
   "execution_count": 1,
   "id": "d807c653",
   "metadata": {
    "scrolled": true
   },
   "outputs": [],
   "source": [
    "from IPython.display import clear_output\n",
    "\n",
    "def display(board): #a function to display the board\n",
    "    clear_output()\n",
    "    print('  |   | ')\n",
    "    print(board[1]+' | '+board[2]+' | '+board[3])\n",
    "    print('  |   | ')\n",
    "    print(\"----------\")\n",
    "    print('  |   | ')\n",
    "    print(board[4]+' | '+board[5]+' | '+board[6])\n",
    "    print('  |   | ')\n",
    "    print(\"----------\")\n",
    "    print('  |   | ')\n",
    "    print(board[7]+' | '+board[8]+' | '+board[9])\n",
    "    print('  |   | ')\n",
    "\n",
    "    \n"
   ]
  },
  {
   "cell_type": "code",
   "execution_count": 2,
   "id": "817275eb",
   "metadata": {},
   "outputs": [],
   "source": [
    "board = [' ',' ',' ',' ',' ',' ',' ',' ',' ',' ']  #my board"
   ]
  },
  {
   "cell_type": "code",
   "execution_count": 3,
   "id": "a803bc7e",
   "metadata": {},
   "outputs": [],
   "source": [
    "def player_input(): #takes in user input(x or o)\n",
    "    marker = ''\n",
    "    player1 = ''\n",
    "    player2 = ''\n",
    "    while not (marker == 'X' or marker == 'O'):\n",
    "        marker = input(\"Player1 Enter 'x' or 'o': \").upper()\n",
    "        if marker != 'X' or 'O':\n",
    "            clear_output()\n",
    "        if marker == 'X':\n",
    "            print(f\"Player1 is '{marker}'\")\n",
    "            print(\"Player2 is 'O'\")\n",
    "            player1,player2 = ('X','O')\n",
    "        elif marker == 'O':\n",
    "            print(f\"Player1 is '{marker}'\")\n",
    "            print(\"Player2 is 'X'\")\n",
    "            player1,player2 = ('O','X')\n",
    "    return player1,player2  #player1 = x or o and player2 = o or x"
   ]
  },
  {
   "cell_type": "code",
   "execution_count": 4,
   "id": "d6dc435e",
   "metadata": {},
   "outputs": [],
   "source": [
    "def display_position_board(): #to show user where to place a marker\n",
    "    print(\"Please select a position to place your marker\")\n",
    "    print('  |   | ')\n",
    "    print(f\"{1} | {2} | {3}\")\n",
    "    print('  |   | ')\n",
    "    print(\"----------\")\n",
    "    print('  |   | ')\n",
    "    print(f\"{4} | {5} | {6}\")\n",
    "    print('  |   | ')\n",
    "    print(\"----------\")\n",
    "    print('  |   | ')\n",
    "    print(f\"{7} | {8} | {9}\")\n",
    "    print('  |   | ')"
   ]
  },
  {
   "cell_type": "code",
   "execution_count": 5,
   "id": "ce7a8673",
   "metadata": {},
   "outputs": [],
   "source": [
    "def position_chioce(board): #for user to select position to place marker\n",
    "    chioce = \" \"\n",
    "    while chioce not in range(1,10) or board[chioce] != ' ': #this checks if the position is valid or has been selected before\n",
    "        chioce = int(input(\"Select a position to place your letter(1-9): \"))\n",
    "        if chioce not in range(1,10) or board[chioce] != ' ':\n",
    "            clear_output()\n",
    "            display(board)\n",
    "    return chioce\n",
    "    "
   ]
  },
  {
   "cell_type": "code",
   "execution_count": 6,
   "id": "eb580603",
   "metadata": {},
   "outputs": [],
   "source": [
    "def win_check(board,mark): #check if we have a winner\n",
    "    return (board[1] == mark and board[2] == mark and board[3] == mark) or (board[4] == mark and board[5] == mark and board[6] == mark) or (board[7] == mark and board[8] == mark and board[9] == mark) or (board[1] == mark and board[4] == mark and board[7] == mark) or (board[2] == mark and board[5] == mark and board[8] == mark) or (board[3] == mark and board[6] == mark and board[9] == mark) or (board[1] == mark and board[5] == mark and board[9] == mark) or (board[3] == mark and board[5] == mark and board[7] == mark)"
   ]
  },
  {
   "cell_type": "code",
   "execution_count": 7,
   "id": "8d888993",
   "metadata": {},
   "outputs": [],
   "source": [
    "def full_board_check(board):\n",
    "    for i in range (1,10):\n",
    "        if board[i] == ' ': #if we have an empty space then we dont have a full board\n",
    "            return False\n",
    "    return True #else we have a full board"
   ]
  },
  {
   "cell_type": "code",
   "execution_count": 8,
   "id": "d80f2bb5",
   "metadata": {},
   "outputs": [],
   "source": [
    "def keep_playing(board):\n",
    "    \n",
    "    print(\"Welcome to my Tic Tac Toe Game\")\n",
    "\n",
    "    board = [' ',' ',' ',' ',' ',' ',' ',' ',' ',' '] \n",
    "\n",
    "    player1_marker,player2_marker = player_input()\n",
    "\n",
    "    display_position_board()\n",
    "\n",
    "    turn = \"Player1\"\n",
    "    \n",
    "    game_on = True\n",
    "\n",
    "\n",
    "\n",
    " "
   ]
  },
  {
   "cell_type": "code",
   "execution_count": 9,
   "id": "dc2e1d1e",
   "metadata": {},
   "outputs": [],
   "source": [
    "def placing_input(board,position,marker): #to place a marker on the selected position\n",
    "    board[position] = marker    \n",
    "    "
   ]
  },
  {
   "cell_type": "code",
   "execution_count": 10,
   "id": "62895132",
   "metadata": {},
   "outputs": [],
   "source": [
    "def question():\n",
    "    return input(\"Do you want to go another round(y/n): \")"
   ]
  },
  {
   "cell_type": "code",
   "execution_count": 11,
   "id": "274078b9",
   "metadata": {},
   "outputs": [],
   "source": [
    "import random\n",
    "def computer():\n",
    "    return random.randint(1,9)"
   ]
  },
  {
   "cell_type": "code",
   "execution_count": 12,
   "id": "2715678b",
   "metadata": {},
   "outputs": [
    {
     "name": "stdout",
     "output_type": "stream",
     "text": [
      "  |   | \n",
      "X |   | O\n",
      "  |   | \n",
      "----------\n",
      "  |   | \n",
      "  | X | O\n",
      "  |   | \n",
      "----------\n",
      "  |   | \n",
      "  |   | X\n",
      "  |   | \n",
      "Congratulations you have won\n",
      "Do you want to go another round(y/n): n\n",
      "Thanks for playing\n"
     ]
    }
   ],
   "source": [
    "print(\"Welcome to my Tic Tac Toe Game\")\n",
    "\n",
    "play = True\n",
    "\n",
    "while play:\n",
    "    answer = ''\n",
    "    \n",
    "    board = [' ',' ',' ',' ',' ',' ',' ',' ',' ',' '] \n",
    "\n",
    "    player1_marker,player2_marker = player_input()\n",
    "\n",
    "    display_position_board()\n",
    "\n",
    "\n",
    "    turn = \"Player1\"\n",
    "\n",
    "    game_on = True\n",
    "    \n",
    "    while game_on:\n",
    "        if turn == \"Player1\": #player1's turn\n",
    "            position = position_chioce(board)\n",
    "            placing_input(board,position,player1_marker)\n",
    "            display(board)\n",
    "        \n",
    "            if win_check(board,player1_marker):\n",
    "                display(board)\n",
    "                print(\"Congratulations you have won\")\n",
    "                answer = input(\"Do you want to go another round(y/n): \")\n",
    "                if answer == 'n':\n",
    "                    game_on = False\n",
    "                    play = False\n",
    "                else:\n",
    "                    game_on = False\n",
    "                    play = True\n",
    "                \n",
    "                \n",
    "                \n",
    "            else:\n",
    "                if full_board_check(board):\n",
    "                    display(board)\n",
    "                    print(\"The game is a draw\")\n",
    "                    answer = input(\"Do you want to go another round(y/n): \")\n",
    "                    if answer == 'n':\n",
    "                        game_on = False\n",
    "                        play = False\n",
    "                    else:\n",
    "                        game_on = False\n",
    "                        play = True\n",
    "                    break\n",
    "                else:\n",
    "                    turn = \"Player2\"\n",
    "                    \n",
    "        else:\n",
    "            if turn == \"Player2\": \n",
    "                position = computer()\n",
    "                if board[position] != ' ':\n",
    "                    position = computer()\n",
    "                placing_input(board,position,player2_marker)\n",
    "                display(board)\n",
    "                \n",
    "                if win_check(board,player2_marker):\n",
    "                    display(board)\n",
    "                    print(\"Sorry you loose\")\n",
    "                    answer = input(\"Do you want to go another round(y/n): \")\n",
    "                    if answer == 'n':\n",
    "                        game_on = False\n",
    "                        play = False\n",
    "                    else:\n",
    "                        game_on = False\n",
    "                        play = True\n",
    "                    break\n",
    "                else:\n",
    "                    if full_board_check(board):\n",
    "                        display(board)\n",
    "                        print(\"We have a draw\")\n",
    "                        break\n",
    "                    else:\n",
    "                        turn = \"Player1\"\n",
    "print(\"Thanks for playing\")"
   ]
  },
  {
   "cell_type": "code",
   "execution_count": null,
   "id": "4188914e",
   "metadata": {},
   "outputs": [],
   "source": []
  }
 ],
 "metadata": {
  "kernelspec": {
   "display_name": "Python 3",
   "language": "python",
   "name": "python3"
  },
  "language_info": {
   "codemirror_mode": {
    "name": "ipython",
    "version": 3
   },
   "file_extension": ".py",
   "mimetype": "text/x-python",
   "name": "python",
   "nbconvert_exporter": "python",
   "pygments_lexer": "ipython3",
   "version": "3.8.8"
  }
 },
 "nbformat": 4,
 "nbformat_minor": 5
}
